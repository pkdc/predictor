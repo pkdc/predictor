{
 "cells": [
  {
   "cell_type": "code",
   "execution_count": 1,
   "metadata": {},
   "outputs": [],
   "source": [
    "import pandas as pd\n",
    "import numpy as np\n",
    "import joblib\n",
    "from keras.models import load_model\n",
    "import ast\n",
    "import gdown"
   ]
  },
  {
   "cell_type": "code",
   "execution_count": 3,
   "metadata": {},
   "outputs": [
    {
     "name": "stderr",
     "output_type": "stream",
     "text": [
      "Downloading...\n",
      "From (original): https://drive.google.com/uc?id=1-yhQR5_KRVQhnc1YZxrIbuc-JZnPmpbu\n",
      "From (redirected): https://drive.google.com/uc?id=1-yhQR5_KRVQhnc1YZxrIbuc-JZnPmpbu&confirm=t&uuid=a29ffe38-3014-4a36-b586-cd35ab402e95\n",
      "To: /Users/pkchoy/code/data_science_bootcamp/predictor-with-files/notebooks/04_all_emails_with_labelled_samples.csv\n",
      "100%|██████████| 136M/136M [00:07<00:00, 18.2MB/s] \n"
     ]
    }
   ],
   "source": [
    "# https://drive.google.com/file/d/1-yhQR5_KRVQhnc1YZxrIbuc-JZnPmpbu/view?usp=sharing\n",
    "gdown.download('https://drive.google.com/uc?id=1-yhQR5_KRVQhnc1YZxrIbuc-JZnPmpbu', '04_all_emails_with_labelled_samples.csv', quiet=False)\n",
    "# all_emails = pd.read_csv('../data/04_all_emails_with_labelled_samples.csv')\n",
    "all_emails = pd.read_csv('04_all_emails_with_labelled_samples.csv')"
   ]
  },
  {
   "cell_type": "markdown",
   "metadata": {},
   "source": [
    "## Mask all embeddings that are not labelled"
   ]
  },
  {
   "cell_type": "code",
   "execution_count": 4,
   "metadata": {},
   "outputs": [
    {
     "name": "stdout",
     "output_type": "stream",
     "text": [
      "DISC_final\n",
      "<class 'str'>    64442\n",
      "Name: count, dtype: int64\n"
     ]
    }
   ],
   "source": [
    "# check type of DISC_final\n",
    "print(all_emails['DISC_final'].apply(lambda x: type(x)).value_counts())"
   ]
  },
  {
   "cell_type": "code",
   "execution_count": 5,
   "metadata": {},
   "outputs": [
    {
     "name": "stdout",
     "output_type": "stream",
     "text": [
      "DISC_final\n",
      "[]     62054\n",
      "[S]      674\n",
      "[C]      629\n",
      "[I]      582\n",
      "[D]      503\n",
      "Name: count, dtype: int64\n"
     ]
    }
   ],
   "source": [
    "# convert DISC_final to list\n",
    "all_emails['DISC_final'] = all_emails['DISC_final'].apply(lambda x: ast.literal_eval(x) if isinstance(x, str) and x.startswith('[') else [])\n",
    "print(all_emails['DISC_final'].value_counts())"
   ]
  },
  {
   "cell_type": "code",
   "execution_count": 6,
   "metadata": {},
   "outputs": [
    {
     "name": "stdout",
     "output_type": "stream",
     "text": [
      "DISC_final\n",
      "[]    62054\n",
      "Name: count, dtype: int64\n"
     ]
    }
   ],
   "source": [
    "not_labelled_mask = all_emails['DISC_final'].apply(lambda x: len(x) == 0)\n",
    "print(all_emails[not_labelled_mask]['DISC_final'].value_counts())\n"
   ]
  },
  {
   "cell_type": "code",
   "execution_count": 7,
   "metadata": {},
   "outputs": [
    {
     "name": "stderr",
     "output_type": "stream",
     "text": [
      "Downloading...\n",
      "From (original): https://drive.google.com/uc?id=1gQgUlhyQBV239iHLdj5q5KvnxorliPgV\n",
      "From (redirected): https://drive.google.com/uc?id=1gQgUlhyQBV239iHLdj5q5KvnxorliPgV&confirm=t&uuid=89c268df-8a2b-4634-89e5-7b3c9076cf48\n",
      "To: /Users/pkchoy/code/data_science_bootcamp/predictor-with-files/notebooks/X_all_bert.npy\n",
      "100%|██████████| 198M/198M [00:10<00:00, 18.3MB/s] \n"
     ]
    },
    {
     "name": "stdout",
     "output_type": "stream",
     "text": [
      "[[-0.7299717  -0.49167195 -0.8787571  ... -0.8831387  -0.66493493\n",
      "   0.798456  ]\n",
      " [-0.62676775 -0.42787698 -0.92575437 ... -0.74408275 -0.58848137\n",
      "   0.7045142 ]\n",
      " [-0.61534685 -0.40817738 -0.69530636 ... -0.2173199  -0.6889094\n",
      "   0.74455506]\n",
      " ...\n",
      " [-0.5463044  -0.50168735 -0.97612244 ... -0.85623616 -0.59687084\n",
      "   0.34431025]\n",
      " [-0.74502814 -0.53911716 -0.97416407 ... -0.92620146 -0.6500866\n",
      "   0.65626997]\n",
      " [-0.7310124  -0.5802631  -0.9622662  ... -0.8861105  -0.66297936\n",
      "   0.69729215]]\n"
     ]
    }
   ],
   "source": [
    "# https://drive.google.com/file/d/1gQgUlhyQBV239iHLdj5q5KvnxorliPgV/view?usp=sharing\n",
    "gdown.download('https://drive.google.com/uc?id=1gQgUlhyQBV239iHLdj5q5KvnxorliPgV', 'X_all_bert.npy', quiet=False)\n",
    "# X = np.load('../model_data/X_all_bert.npy')\n",
    "X = np.load('X_all_bert.npy')\n",
    "print(X)"
   ]
  },
  {
   "cell_type": "code",
   "execution_count": 8,
   "metadata": {},
   "outputs": [],
   "source": [
    "X_not_labelled = X[not_labelled_mask]"
   ]
  },
  {
   "cell_type": "markdown",
   "metadata": {},
   "source": [
    "## Predict DISC Labels with Logistic Regression"
   ]
  },
  {
   "cell_type": "code",
   "execution_count": 9,
   "metadata": {},
   "outputs": [],
   "source": [
    "log_reg = joblib.load('../models/log_reg_bootstrap.pkl')"
   ]
  },
  {
   "cell_type": "code",
   "execution_count": 10,
   "metadata": {},
   "outputs": [
    {
     "name": "stdout",
     "output_type": "stream",
     "text": [
      "[[0.22537586 0.32320042 0.14260739 0.13101938]\n",
      " [0.14248023 0.09783818 0.25768252 0.5436792 ]\n",
      " [0.25281834 0.10374325 0.26084311 0.17657075]\n",
      " ...\n",
      " [0.15141419 0.05027271 0.1471198  0.75255273]\n",
      " [0.09834303 0.0935619  0.49034689 0.30100052]\n",
      " [0.05465415 0.23861551 0.16082456 0.64775935]]\n",
      "[[1 1 0 0]\n",
      " [0 0 1 1]\n",
      " [1 0 1 0]\n",
      " ...\n",
      " [0 0 0 1]\n",
      " [0 0 1 1]\n",
      " [0 1 0 1]]\n"
     ]
    }
   ],
   "source": [
    "y_pred_probi_log_reg = log_reg.predict_proba(X_not_labelled)\n",
    "print(y_pred_probi_log_reg)\n",
    "\n",
    "threshold_log_reg = 0.2\n",
    "y_pred_log_reg = (y_pred_probi_log_reg >= threshold_log_reg).astype(int)\n",
    "\n",
    "print(y_pred_log_reg)"
   ]
  },
  {
   "cell_type": "code",
   "execution_count": 11,
   "metadata": {},
   "outputs": [],
   "source": [
    "disc_probi = ['']"
   ]
  },
  {
   "cell_type": "code",
   "execution_count": 12,
   "metadata": {},
   "outputs": [],
   "source": [
    "disc_labels = ['D', 'I', 'S', 'C']\n",
    "log_reg_df = pd.DataFrame(y_pred_log_reg, columns=disc_labels)"
   ]
  },
  {
   "cell_type": "code",
   "execution_count": 13,
   "metadata": {},
   "outputs": [],
   "source": [
    "log_reg_df['DISC'] = log_reg_df.apply(lambda x: [disc_labels[i] for i in range(4) if x[disc_labels[i]] == 1], axis=1)"
   ]
  },
  {
   "cell_type": "code",
   "execution_count": 14,
   "metadata": {},
   "outputs": [
    {
     "data": {
      "text/html": [
       "<div>\n",
       "<style scoped>\n",
       "    .dataframe tbody tr th:only-of-type {\n",
       "        vertical-align: middle;\n",
       "    }\n",
       "\n",
       "    .dataframe tbody tr th {\n",
       "        vertical-align: top;\n",
       "    }\n",
       "\n",
       "    .dataframe thead th {\n",
       "        text-align: right;\n",
       "    }\n",
       "</style>\n",
       "<table border=\"1\" class=\"dataframe\">\n",
       "  <thead>\n",
       "    <tr style=\"text-align: right;\">\n",
       "      <th></th>\n",
       "      <th>D</th>\n",
       "      <th>I</th>\n",
       "      <th>S</th>\n",
       "      <th>C</th>\n",
       "      <th>DISC</th>\n",
       "      <th>msg_embeddings</th>\n",
       "    </tr>\n",
       "  </thead>\n",
       "  <tbody>\n",
       "    <tr>\n",
       "      <th>47589</th>\n",
       "      <td>0</td>\n",
       "      <td>1</td>\n",
       "      <td>0</td>\n",
       "      <td>0</td>\n",
       "      <td>[I]</td>\n",
       "      <td>[-0.5900834202766418, -0.36523717641830444, -0...</td>\n",
       "    </tr>\n",
       "    <tr>\n",
       "      <th>43960</th>\n",
       "      <td>0</td>\n",
       "      <td>0</td>\n",
       "      <td>1</td>\n",
       "      <td>1</td>\n",
       "      <td>[S, C]</td>\n",
       "      <td>[-0.4259207546710968, -0.4765876531600952, -0....</td>\n",
       "    </tr>\n",
       "    <tr>\n",
       "      <th>46737</th>\n",
       "      <td>0</td>\n",
       "      <td>0</td>\n",
       "      <td>1</td>\n",
       "      <td>1</td>\n",
       "      <td>[S, C]</td>\n",
       "      <td>[-0.754563570022583, -0.6029690504074097, -0.9...</td>\n",
       "    </tr>\n",
       "    <tr>\n",
       "      <th>35473</th>\n",
       "      <td>0</td>\n",
       "      <td>1</td>\n",
       "      <td>0</td>\n",
       "      <td>1</td>\n",
       "      <td>[I, C]</td>\n",
       "      <td>[-0.6870654821395874, -0.2957246005535126, -0....</td>\n",
       "    </tr>\n",
       "    <tr>\n",
       "      <th>53237</th>\n",
       "      <td>0</td>\n",
       "      <td>0</td>\n",
       "      <td>1</td>\n",
       "      <td>1</td>\n",
       "      <td>[S, C]</td>\n",
       "      <td>[-0.6548557281494141, -0.4832277297973633, -0....</td>\n",
       "    </tr>\n",
       "    <tr>\n",
       "      <th>2790</th>\n",
       "      <td>0</td>\n",
       "      <td>0</td>\n",
       "      <td>1</td>\n",
       "      <td>1</td>\n",
       "      <td>[S, C]</td>\n",
       "      <td>[-0.8878628611564636, -0.5804175138473511, -0....</td>\n",
       "    </tr>\n",
       "    <tr>\n",
       "      <th>19538</th>\n",
       "      <td>0</td>\n",
       "      <td>1</td>\n",
       "      <td>1</td>\n",
       "      <td>0</td>\n",
       "      <td>[I, S]</td>\n",
       "      <td>[-0.3763449788093567, -0.4020101726055145, -0....</td>\n",
       "    </tr>\n",
       "    <tr>\n",
       "      <th>3823</th>\n",
       "      <td>1</td>\n",
       "      <td>0</td>\n",
       "      <td>1</td>\n",
       "      <td>0</td>\n",
       "      <td>[D, S]</td>\n",
       "      <td>[-0.6466488838195801, -0.5353425741195679, -0....</td>\n",
       "    </tr>\n",
       "    <tr>\n",
       "      <th>31495</th>\n",
       "      <td>0</td>\n",
       "      <td>0</td>\n",
       "      <td>0</td>\n",
       "      <td>1</td>\n",
       "      <td>[C]</td>\n",
       "      <td>[-0.5648511648178101, -0.5091506838798523, -0....</td>\n",
       "    </tr>\n",
       "    <tr>\n",
       "      <th>51034</th>\n",
       "      <td>1</td>\n",
       "      <td>1</td>\n",
       "      <td>0</td>\n",
       "      <td>0</td>\n",
       "      <td>[D, I]</td>\n",
       "      <td>[-0.3132682144641876, -0.3871641159057617, -0....</td>\n",
       "    </tr>\n",
       "  </tbody>\n",
       "</table>\n",
       "</div>"
      ],
      "text/plain": [
       "       D  I  S  C    DISC                                     msg_embeddings\n",
       "47589  0  1  0  0     [I]  [-0.5900834202766418, -0.36523717641830444, -0...\n",
       "43960  0  0  1  1  [S, C]  [-0.4259207546710968, -0.4765876531600952, -0....\n",
       "46737  0  0  1  1  [S, C]  [-0.754563570022583, -0.6029690504074097, -0.9...\n",
       "35473  0  1  0  1  [I, C]  [-0.6870654821395874, -0.2957246005535126, -0....\n",
       "53237  0  0  1  1  [S, C]  [-0.6548557281494141, -0.4832277297973633, -0....\n",
       "2790   0  0  1  1  [S, C]  [-0.8878628611564636, -0.5804175138473511, -0....\n",
       "19538  0  1  1  0  [I, S]  [-0.3763449788093567, -0.4020101726055145, -0....\n",
       "3823   1  0  1  0  [D, S]  [-0.6466488838195801, -0.5353425741195679, -0....\n",
       "31495  0  0  0  1     [C]  [-0.5648511648178101, -0.5091506838798523, -0....\n",
       "51034  1  1  0  0  [D, I]  [-0.3132682144641876, -0.3871641159057617, -0...."
      ]
     },
     "execution_count": 14,
     "metadata": {},
     "output_type": "execute_result"
    }
   ],
   "source": [
    "log_reg_df['msg_embeddings'] = X_not_labelled.tolist()\n",
    "log_reg_df.sample(10)"
   ]
  },
  {
   "cell_type": "code",
   "execution_count": 15,
   "metadata": {},
   "outputs": [],
   "source": [
    "log_reg_df.to_csv('../data/07_predicted_labels_all_emails.csv', index=False)"
   ]
  }
 ],
 "metadata": {
  "kernelspec": {
   "display_name": ".venv",
   "language": "python",
   "name": "python3"
  },
  "language_info": {
   "codemirror_mode": {
    "name": "ipython",
    "version": 3
   },
   "file_extension": ".py",
   "mimetype": "text/x-python",
   "name": "python",
   "nbconvert_exporter": "python",
   "pygments_lexer": "ipython3",
   "version": "3.12.1"
  }
 },
 "nbformat": 4,
 "nbformat_minor": 2
}
