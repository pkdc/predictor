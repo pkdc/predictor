{
 "cells": [
  {
   "cell_type": "code",
   "execution_count": 1,
   "metadata": {},
   "outputs": [],
   "source": [
    "import pandas as pd\n",
    "import re\n",
    "import quopri\n",
    "from bs4 import BeautifulSoup\n",
    "import numpy as np\n",
    "import gdown"
   ]
  },
  {
   "cell_type": "code",
   "execution_count": 2,
   "metadata": {},
   "outputs": [
    {
     "name": "stderr",
     "output_type": "stream",
     "text": [
      "Downloading...\n",
      "From (original): https://drive.google.com/uc?id=1cR-f4k6KElcFKr322aSeFF76qvg6-PeF\n",
      "From (redirected): https://drive.google.com/uc?id=1cR-f4k6KElcFKr322aSeFF76qvg6-PeF&confirm=t&uuid=eb945676-fbef-4fd6-995b-36c0d497baba\n",
      "To: /Users/pkchoy/code/data_science_bootcamp/predictor/notebooks/01_extracted_emails.csv\n",
      "100%|██████████| 1.24G/1.24G [01:08<00:00, 17.9MB/s]\n"
     ]
    },
    {
     "ename": "FileNotFoundError",
     "evalue": "[Errno 2] No such file or directory: '01_extracted_emails.csvl9i0djkc.part'",
     "output_type": "error",
     "traceback": [
      "\u001b[0;31m---------------------------------------------------------------------------\u001b[0m",
      "\u001b[0;31mFileNotFoundError\u001b[0m                         Traceback (most recent call last)",
      "File \u001b[0;32m/Library/Frameworks/Python.framework/Versions/3.12/lib/python3.12/shutil.py:874\u001b[0m, in \u001b[0;36mmove\u001b[0;34m(src, dst, copy_function)\u001b[0m\n\u001b[1;32m    873\u001b[0m \u001b[38;5;28;01mtry\u001b[39;00m:\n\u001b[0;32m--> 874\u001b[0m     \u001b[43mos\u001b[49m\u001b[38;5;241;43m.\u001b[39;49m\u001b[43mrename\u001b[49m\u001b[43m(\u001b[49m\u001b[43msrc\u001b[49m\u001b[43m,\u001b[49m\u001b[43m \u001b[49m\u001b[43mreal_dst\u001b[49m\u001b[43m)\u001b[49m\n\u001b[1;32m    875\u001b[0m \u001b[38;5;28;01mexcept\u001b[39;00m \u001b[38;5;167;01mOSError\u001b[39;00m:\n",
      "\u001b[0;31mFileNotFoundError\u001b[0m: [Errno 2] No such file or directory: '01_extracted_emails.csvl9i0djkc.part' -> '01_extracted_emails.csv'",
      "\nDuring handling of the above exception, another exception occurred:\n",
      "\u001b[0;31mFileNotFoundError\u001b[0m                         Traceback (most recent call last)",
      "Cell \u001b[0;32mIn[2], line 2\u001b[0m\n\u001b[1;32m      1\u001b[0m \u001b[38;5;66;03m# https://drive.google.com/file/d/1cR-f4k6KElcFKr322aSeFF76qvg6-PeF/view?usp=sharing\u001b[39;00m\n\u001b[0;32m----> 2\u001b[0m \u001b[43mgdown\u001b[49m\u001b[38;5;241;43m.\u001b[39;49m\u001b[43mdownload\u001b[49m\u001b[43m(\u001b[49m\u001b[38;5;124;43m'\u001b[39;49m\u001b[38;5;124;43mhttps://drive.google.com/uc?id=1cR-f4k6KElcFKr322aSeFF76qvg6-PeF\u001b[39;49m\u001b[38;5;124;43m'\u001b[39;49m\u001b[43m,\u001b[49m\u001b[43m \u001b[49m\u001b[38;5;124;43m'\u001b[39;49m\u001b[38;5;124;43m01_extracted_emails.csv\u001b[39;49m\u001b[38;5;124;43m'\u001b[39;49m\u001b[43m,\u001b[49m\u001b[43m \u001b[49m\u001b[43mquiet\u001b[49m\u001b[38;5;241;43m=\u001b[39;49m\u001b[38;5;28;43;01mFalse\u001b[39;49;00m\u001b[43m)\u001b[49m\n",
      "File \u001b[0;32m~/Library/Python/3.12/lib/python/site-packages/gdown/download.py:381\u001b[0m, in \u001b[0;36mdownload\u001b[0;34m(url, output, quiet, proxy, speed, use_cookies, verify, id, fuzzy, resume, format, user_agent, log_messages)\u001b[0m\n\u001b[1;32m    379\u001b[0m \u001b[38;5;28;01mif\u001b[39;00m tmp_file:\n\u001b[1;32m    380\u001b[0m     f\u001b[38;5;241m.\u001b[39mclose()\n\u001b[0;32m--> 381\u001b[0m     \u001b[43mshutil\u001b[49m\u001b[38;5;241;43m.\u001b[39;49m\u001b[43mmove\u001b[49m\u001b[43m(\u001b[49m\u001b[43mtmp_file\u001b[49m\u001b[43m,\u001b[49m\u001b[43m \u001b[49m\u001b[43moutput\u001b[49m\u001b[43m)\u001b[49m\n\u001b[1;32m    382\u001b[0m \u001b[38;5;28;01mif\u001b[39;00m output_is_path \u001b[38;5;129;01mand\u001b[39;00m last_modified_time:\n\u001b[1;32m    383\u001b[0m     mtime \u001b[38;5;241m=\u001b[39m last_modified_time\u001b[38;5;241m.\u001b[39mtimestamp()\n",
      "File \u001b[0;32m/Library/Frameworks/Python.framework/Versions/3.12/lib/python3.12/shutil.py:894\u001b[0m, in \u001b[0;36mmove\u001b[0;34m(src, dst, copy_function)\u001b[0m\n\u001b[1;32m    892\u001b[0m         rmtree(src)\n\u001b[1;32m    893\u001b[0m     \u001b[38;5;28;01melse\u001b[39;00m:\n\u001b[0;32m--> 894\u001b[0m         \u001b[43mcopy_function\u001b[49m\u001b[43m(\u001b[49m\u001b[43msrc\u001b[49m\u001b[43m,\u001b[49m\u001b[43m \u001b[49m\u001b[43mreal_dst\u001b[49m\u001b[43m)\u001b[49m\n\u001b[1;32m    895\u001b[0m         os\u001b[38;5;241m.\u001b[39munlink(src)\n\u001b[1;32m    896\u001b[0m \u001b[38;5;28;01mreturn\u001b[39;00m real_dst\n",
      "File \u001b[0;32m/Library/Frameworks/Python.framework/Versions/3.12/lib/python3.12/shutil.py:463\u001b[0m, in \u001b[0;36mcopy2\u001b[0;34m(src, dst, follow_symlinks)\u001b[0m\n\u001b[1;32m    460\u001b[0m         \u001b[38;5;28;01melse\u001b[39;00m:\n\u001b[1;32m    461\u001b[0m             \u001b[38;5;28;01mraise\u001b[39;00m\n\u001b[0;32m--> 463\u001b[0m \u001b[43mcopyfile\u001b[49m\u001b[43m(\u001b[49m\u001b[43msrc\u001b[49m\u001b[43m,\u001b[49m\u001b[43m \u001b[49m\u001b[43mdst\u001b[49m\u001b[43m,\u001b[49m\u001b[43m \u001b[49m\u001b[43mfollow_symlinks\u001b[49m\u001b[38;5;241;43m=\u001b[39;49m\u001b[43mfollow_symlinks\u001b[49m\u001b[43m)\u001b[49m\n\u001b[1;32m    464\u001b[0m copystat(src, dst, follow_symlinks\u001b[38;5;241m=\u001b[39mfollow_symlinks)\n\u001b[1;32m    465\u001b[0m \u001b[38;5;28;01mreturn\u001b[39;00m dst\n",
      "File \u001b[0;32m/Library/Frameworks/Python.framework/Versions/3.12/lib/python3.12/shutil.py:260\u001b[0m, in \u001b[0;36mcopyfile\u001b[0;34m(src, dst, follow_symlinks)\u001b[0m\n\u001b[1;32m    258\u001b[0m     os\u001b[38;5;241m.\u001b[39msymlink(os\u001b[38;5;241m.\u001b[39mreadlink(src), dst)\n\u001b[1;32m    259\u001b[0m \u001b[38;5;28;01melse\u001b[39;00m:\n\u001b[0;32m--> 260\u001b[0m     \u001b[38;5;28;01mwith\u001b[39;00m \u001b[38;5;28;43mopen\u001b[39;49m\u001b[43m(\u001b[49m\u001b[43msrc\u001b[49m\u001b[43m,\u001b[49m\u001b[43m \u001b[49m\u001b[38;5;124;43m'\u001b[39;49m\u001b[38;5;124;43mrb\u001b[39;49m\u001b[38;5;124;43m'\u001b[39;49m\u001b[43m)\u001b[49m \u001b[38;5;28;01mas\u001b[39;00m fsrc:\n\u001b[1;32m    261\u001b[0m         \u001b[38;5;28;01mtry\u001b[39;00m:\n\u001b[1;32m    262\u001b[0m             \u001b[38;5;28;01mwith\u001b[39;00m \u001b[38;5;28mopen\u001b[39m(dst, \u001b[38;5;124m'\u001b[39m\u001b[38;5;124mwb\u001b[39m\u001b[38;5;124m'\u001b[39m) \u001b[38;5;28;01mas\u001b[39;00m fdst:\n\u001b[1;32m    263\u001b[0m                 \u001b[38;5;66;03m# macOS\u001b[39;00m\n",
      "\u001b[0;31mFileNotFoundError\u001b[0m: [Errno 2] No such file or directory: '01_extracted_emails.csvl9i0djkc.part'"
     ]
    }
   ],
   "source": [
    "# https://drive.google.com/file/d/1cR-f4k6KElcFKr322aSeFF76qvg6-PeF/view?usp=sharing\n",
    "gdown.download('https://drive.google.com/uc?id=1cR-f4k6KElcFKr322aSeFF76qvg6-PeF', '01_extracted_emails.csv', quiet=False)"
   ]
  },
  {
   "cell_type": "code",
   "execution_count": null,
   "metadata": {},
   "outputs": [
    {
     "name": "stdout",
     "output_type": "stream",
     "text": [
      "                                    Message-ID  \\\n",
      "0  18782981.1075855378110.JavaMail.evans@thyme   \n",
      "1  15464986.1075855378456.JavaMail.evans@thyme   \n",
      "2  24216240.1075855687451.JavaMail.evans@thyme   \n",
      "3  13505866.1075863688222.JavaMail.evans@thyme   \n",
      "4  30922949.1075863688243.JavaMail.evans@thyme   \n",
      "\n",
      "                                    Date                     From  \\\n",
      "0  Mon, 14 May 2001 16:39:00 -0700 (PDT)  phillip.allen@enron.com   \n",
      "1   Fri, 4 May 2001 13:51:00 -0700 (PDT)  phillip.allen@enron.com   \n",
      "2  Wed, 18 Oct 2000 03:00:00 -0700 (PDT)  phillip.allen@enron.com   \n",
      "3  Mon, 23 Oct 2000 06:13:00 -0700 (PDT)  phillip.allen@enron.com   \n",
      "4  Thu, 31 Aug 2000 05:07:00 -0700 (PDT)  phillip.allen@enron.com   \n",
      "\n",
      "                        To    Subject   Cc  Mime-Version  \\\n",
      "0     tim.belden@enron.com        NaN  NaN           1.0   \n",
      "1  john.lavorato@enron.com        Re:  NaN           1.0   \n",
      "2   leah.arsdall@enron.com   Re: test  NaN           1.0   \n",
      "3    randall.gay@enron.com        NaN  NaN           1.0   \n",
      "4     greg.piper@enron.com  Re: Hello  NaN           1.0   \n",
      "\n",
      "                   Content-Type Content-Transfer-Encoding  Bcc  \\\n",
      "0  text/plain; charset=us-ascii                      7bit  NaN   \n",
      "1  text/plain; charset=us-ascii                      7bit  NaN   \n",
      "2  text/plain; charset=us-ascii                      7bit  NaN   \n",
      "3  text/plain; charset=us-ascii                      7bit  NaN   \n",
      "4  text/plain; charset=us-ascii                      7bit  NaN   \n",
      "\n",
      "            X-From                                               X-To X-cc  \\\n",
      "0  Phillip K Allen           Tim Belden <Tim Belden/Enron@EnronXGate>  NaN   \n",
      "1  Phillip K Allen  John J Lavorato <John J Lavorato/ENRON@enronXg...  NaN   \n",
      "2  Phillip K Allen                                   Leah Van Arsdall  NaN   \n",
      "3  Phillip K Allen                                      Randall L Gay  NaN   \n",
      "4  Phillip K Allen                                         Greg Piper  NaN   \n",
      "\n",
      "  X-bcc                                           X-Folder X-Origin  \\\n",
      "0   NaN  \\Phillip_Allen_Jan2002_1\\Allen, Phillip K.\\'Se...  Allen-P   \n",
      "1   NaN  \\Phillip_Allen_Jan2002_1\\Allen, Phillip K.\\'Se...  Allen-P   \n",
      "2   NaN    \\Phillip_Allen_Dec2000\\Notes Folders\\'sent mail  Allen-P   \n",
      "3   NaN    \\Phillip_Allen_Dec2000\\Notes Folders\\'sent mail  Allen-P   \n",
      "4   NaN    \\Phillip_Allen_Dec2000\\Notes Folders\\'sent mail  Allen-P   \n",
      "\n",
      "                    X-FileName  \\\n",
      "0  pallen (Non-Privileged).pst   \n",
      "1  pallen (Non-Privileged).pst   \n",
      "2                   pallen.nsf   \n",
      "3                   pallen.nsf   \n",
      "4                   pallen.nsf   \n",
      "\n",
      "                                        Message-Body  \n",
      "0                          Here is our forecast\\n\\n   \n",
      "1  Traveling to have a business meeting takes the...  \n",
      "2                     test successful.  way to go!!!  \n",
      "3  Randy,\\n\\n Can you send me a schedule of the s...  \n",
      "4                Let's shoot for Tuesday at 11:45.    \n"
     ]
    }
   ],
   "source": [
    "# emails_df = pd.read_csv('../data/01_extracted_emails.csv')\n",
    "emails_df = pd.read_csv('01_extracted_emails.csv')\n",
    "print(emails_df.head(5))"
   ]
  },
  {
   "cell_type": "code",
   "execution_count": null,
   "metadata": {},
   "outputs": [
    {
     "name": "stdout",
     "output_type": "stream",
     "text": [
      "<class 'pandas.core.frame.DataFrame'>\n",
      "RangeIndex: 517401 entries, 0 to 517400\n",
      "Data columns (total 18 columns):\n",
      " #   Column                     Non-Null Count   Dtype  \n",
      "---  ------                     --------------   -----  \n",
      " 0   Message-ID                 495554 non-null  object \n",
      " 1   Date                       495554 non-null  object \n",
      " 2   From                       495554 non-null  object \n",
      " 3   To                         495554 non-null  object \n",
      " 4   Subject                    478886 non-null  object \n",
      " 5   Cc                         124262 non-null  object \n",
      " 6   Mime-Version               495554 non-null  float64\n",
      " 7   Content-Type               495554 non-null  object \n",
      " 8   Content-Transfer-Encoding  495554 non-null  object \n",
      " 9   Bcc                        126416 non-null  object \n",
      " 10  X-From                     495554 non-null  object \n",
      " 11  X-To                       495554 non-null  object \n",
      " 12  X-cc                       127172 non-null  object \n",
      " 13  X-bcc                      168 non-null     object \n",
      " 14  X-Folder                   495554 non-null  object \n",
      " 15  X-Origin                   495554 non-null  object \n",
      " 16  X-FileName                 495007 non-null  object \n",
      " 17  Message-Body               495553 non-null  object \n",
      "dtypes: float64(1), object(17)\n",
      "memory usage: 71.1+ MB\n"
     ]
    }
   ],
   "source": [
    "emails_df.info()"
   ]
  },
  {
   "cell_type": "code",
   "execution_count": null,
   "metadata": {},
   "outputs": [
    {
     "data": {
      "text/plain": [
       "Message-ID                    21847\n",
       "Date                          21847\n",
       "From                          21847\n",
       "To                            21847\n",
       "Subject                       38515\n",
       "Cc                           393139\n",
       "Mime-Version                  21847\n",
       "Content-Type                  21847\n",
       "Content-Transfer-Encoding     21847\n",
       "Bcc                          390985\n",
       "X-From                        21847\n",
       "X-To                          21847\n",
       "X-cc                         390229\n",
       "X-bcc                        517233\n",
       "X-Folder                      21847\n",
       "X-Origin                      21847\n",
       "X-FileName                    22394\n",
       "Message-Body                  21848\n",
       "dtype: int64"
      ]
     },
     "execution_count": 5,
     "metadata": {},
     "output_type": "execute_result"
    }
   ],
   "source": [
    "emails_df.isnull().sum()"
   ]
  },
  {
   "cell_type": "code",
   "execution_count": null,
   "metadata": {},
   "outputs": [],
   "source": [
    "emails_df.dropna(how='all', inplace=True)\n",
    "emails_df.dropna(subset=['Message-Body'], inplace=True)"
   ]
  },
  {
   "cell_type": "code",
   "execution_count": null,
   "metadata": {},
   "outputs": [
    {
     "name": "stdout",
     "output_type": "stream",
     "text": [
      "74.4899132887905 % of X-bcc is empty\n",
      "74.92457920747125 % of X-cc is empty\n",
      "99.96609847988005 % of X-bcc is empty\n",
      "74.33735644825074 % of X-cc is empty\n",
      "remaining cols:  Index(['Message-ID', 'Date', 'From', 'To', 'Subject', 'Mime-Version',\n",
      "       'Content-Type', 'Content-Transfer-Encoding', 'X-From', 'X-To',\n",
      "       'X-Folder', 'X-Origin', 'X-FileName', 'Message-Body'],\n",
      "      dtype='object')\n"
     ]
    }
   ],
   "source": [
    "# drop columns with lots of missing values\n",
    "print(emails_df['Bcc'].isnull().mean() * 100, '% of X-bcc is empty')\n",
    "print(emails_df['Cc'].isnull().mean() * 100, '% of X-cc is empty')\n",
    "print(emails_df['X-bcc'].isnull().mean() * 100, '% of X-bcc is empty')\n",
    "print(emails_df['X-cc'].isnull().mean() * 100, '% of X-cc is empty')\n",
    "\n",
    "emails_df.drop(columns=['Bcc', 'Cc', 'X-bcc', 'X-cc'], inplace=True)\n",
    "print('remaining cols: ', emails_df.columns)"
   ]
  },
  {
   "cell_type": "code",
   "execution_count": null,
   "metadata": {},
   "outputs": [
    {
     "name": "stderr",
     "output_type": "stream",
     "text": [
      "/var/folders/cv/swyglqyx1tlc_6vc0p615fhr0000gn/T/ipykernel_70781/1007409803.py:2: FutureWarning: A value is trying to be set on a copy of a DataFrame or Series through chained assignment using an inplace method.\n",
      "The behavior will change in pandas 3.0. This inplace method will never work because the intermediate object on which we are setting values always behaves as a copy.\n",
      "\n",
      "For example, when doing 'df[col].method(value, inplace=True)', try using 'df.method({col: value}, inplace=True)' or df[col] = df[col].method(value) instead, to perform the operation inplace on the original object.\n",
      "\n",
      "\n",
      "  emails_df['Subject'].fillna('No Subject', inplace=True)\n"
     ]
    }
   ],
   "source": [
    "# Impute with No Subject\n",
    "emails_df['Subject'].fillna('No Subject', inplace=True)"
   ]
  },
  {
   "cell_type": "code",
   "execution_count": null,
   "metadata": {},
   "outputs": [],
   "source": [
    "# Drop columns that are not useful for prediction\n",
    "emails_df = emails_df.drop(columns=['Message-ID', 'Mime-Version', 'Content-Type', 'Content-Transfer-Encoding', 'X-Folder', 'X-Origin', 'X-FileName'])"
   ]
  },
  {
   "cell_type": "code",
   "execution_count": null,
   "metadata": {},
   "outputs": [
    {
     "name": "stdout",
     "output_type": "stream",
     "text": [
      "<class 'pandas.core.frame.DataFrame'>\n",
      "Index: 495553 entries, 0 to 517400\n",
      "Data columns (total 7 columns):\n",
      " #   Column        Non-Null Count   Dtype \n",
      "---  ------        --------------   ----- \n",
      " 0   Date          495553 non-null  object\n",
      " 1   From          495553 non-null  object\n",
      " 2   To            495553 non-null  object\n",
      " 3   Subject       495553 non-null  object\n",
      " 4   X-From        495553 non-null  object\n",
      " 5   X-To          495553 non-null  object\n",
      " 6   Message-Body  495553 non-null  object\n",
      "dtypes: object(7)\n",
      "memory usage: 30.2+ MB\n"
     ]
    }
   ],
   "source": [
    "emails_df.info()"
   ]
  },
  {
   "cell_type": "code",
   "execution_count": null,
   "metadata": {},
   "outputs": [
    {
     "name": "stdout",
     "output_type": "stream",
     "text": [
      "FW: fixed forward or other Collar floor gas price terms ---------------------- Forwarded by Phillip K Allen/HOU/ECT on 10/16/2000 \n",
      "01:42 PM ---------------------------\n",
      "\n",
      "\n",
      "\"Buckner, Buck\" <buck.buckner@honeywell.com> on 10/12/2000 01:12:21 PM\n",
      "To: \"'Pallen@Enron.com'\" <Pallen@Enron.com>\n",
      "cc:  \n",
      "Subject: FW: fixed forward or other Collar floor gas price terms\n",
      "\n",
      "\n",
      "Phillip,\n",
      "\n",
      "> As discussed  during our phone conversation, In a Parallon 75 microturbine\n",
      "> power generation deal for a national accounts customer, I am developing a\n",
      "> proposal to sell power to customer at fixed or collar/floor price. To do\n",
      "> so I need a corresponding term gas price for same. Microturbine is an\n",
      "> onsite generation product developed by Honeywell to generate electricity\n",
      "> on customer site (degen). using natural gas. In doing so,  I need your\n",
      "> best fixed price forward gas price deal for 1, 3, 5, 7 and 10 years for\n",
      "> annual/seasonal supply to microturbines to generate fixed kWh for\n",
      "> customer. We have the opportunity to sell customer kWh 's using\n",
      "> microturbine or sell them turbines themselves. kWh deal must have limited/\n",
      "> no risk forward gas price to make deal work. Therein comes Sempra energy\n",
      "> gas trading, truly you.\n",
      ">\n",
      "> We are proposing installing 180 - 240 units across a large number of\n",
      "> stores (60-100) in San Diego.\n",
      "> Store number varies because of installation hurdles face at small percent.\n",
      ">\n",
      "> For 6-8 hours a day  Microturbine run time:\n",
      "> Gas requirement for 180 microturbines 227 - 302 MMcf per year\n",
      "> Gas requirement for 240 microturbines 302 - 403 MMcf per year\n",
      ">\n",
      "> Gas will likely be consumed from May through September, during peak\n",
      "> electric period.\n",
      "> Gas price required: Burnertip price behind (LDC) San Diego Gas & Electric\n",
      "> Need detail breakout of commodity and transport cost (firm or\n",
      "> interruptible).\n",
      ">\n",
      "> Should you have additional questions, give me a call.\n",
      "> Let me assure you, this is real deal!!\n",
      ">\n",
      "> Buck Buckner, P.E., MBA\n",
      "> Manager, Business Development and Planning\n",
      "> Big Box Retail Sales\n",
      "> Honeywell Power Systems, Inc.\n",
      "> 8725 Pan American Frwy\n",
      "> Albuquerque, NM 87113\n",
      "> 505-798-6424\n",
      "> 505-798-6050x\n",
      "> 505-220-4129\n",
      "> 888/501-3145\n",
      "> \n"
     ]
    }
   ],
   "source": [
    "print(emails_df['Subject'][9], emails_df['Message-Body'][9])"
   ]
  },
  {
   "cell_type": "code",
   "execution_count": null,
   "metadata": {},
   "outputs": [
    {
     "data": {
      "text/plain": [
       "0                                 Here is our forecast\\n\\n \n",
       "1         Traveling to have a business meeting takes the...\n",
       "2                            test successful.  way to go!!!\n",
       "3         Randy,\\n\\n Can you send me a schedule of the s...\n",
       "4                       Let's shoot for Tuesday at 11:45.  \n",
       "                                ...                        \n",
       "517396    This is a trade with OIL-SPEC-HEDGE-NG (John L...\n",
       "517397    Some of my position is with the Alberta Term b...\n",
       "517398    2\\n\\n -----Original Message-----\\nFrom: \\tDouc...\n",
       "517399    Analyst\\t\\t\\t\\t\\tRank\\n\\nStephane Brodeur\\t\\t\\...\n",
       "517400    i think the YMCA has a class that is for peopl...\n",
       "Name: Message-Body, Length: 495553, dtype: object"
      ]
     },
     "execution_count": 12,
     "metadata": {},
     "output_type": "execute_result"
    }
   ],
   "source": [
    "emails_df['Message-Body']"
   ]
  },
  {
   "cell_type": "code",
   "execution_count": null,
   "metadata": {},
   "outputs": [
    {
     "name": "stdout",
     "output_type": "stream",
     "text": [
      "before:  495553\n",
      "after:  320509\n"
     ]
    }
   ],
   "source": [
    "# Find the emails that have common reply or forward patterns\n",
    "# -+\\s*(Original|Forwarded)\n",
    "def find_reply_forward(msg_body):\n",
    "\n",
    "    if not isinstance(msg_body, str):\n",
    "        return False\n",
    "\n",
    "    pattern = re.compile(\n",
    "        r\"\"\"\n",
    "        (?:-+\\s*(?:Original|Forwarded)) # forwarded\n",
    "        |On\\s+[^\\n]+wrote: # replies\n",
    "        |>\\s*(?:From|Sent|To): # Quoted replies\n",
    "        |Note:\\s*forwarded\\s*message\\s*attached  # Forwarded note\n",
    "        |Begin\\s+forwarded\\s+message\n",
    "        |Message\\s+forwarded\n",
    "        \"\"\",\n",
    "        re.IGNORECASE | re.VERBOSE | re.DOTALL)\n",
    "    return bool(pattern.search(msg_body))\n",
    "\n",
    "# emails_df['has_reply_forward_in_msg'] = emails_df['Message-Body'].apply(find_reply_forward)\n",
    "\n",
    "print('before: ', emails_df.shape[0])\n",
    "emails_df = emails_df[~emails_df['Message-Body'].apply(find_reply_forward)]\n",
    "print('after: ', emails_df.shape[0])\n"
   ]
  },
  {
   "cell_type": "code",
   "execution_count": null,
   "metadata": {},
   "outputs": [
    {
     "name": "stdout",
     "output_type": "stream",
     "text": [
      "before:  320509\n",
      "after:  317504\n"
     ]
    }
   ],
   "source": [
    "def find_forward_subject(subject):\n",
    "    if not isinstance(subject, str):\n",
    "        return False\n",
    "\n",
    "    pattern = re.compile(r'^\\s*(?:FW:|Fwd:)', re.IGNORECASE)\n",
    "    return bool(pattern.search(subject))\n",
    "\n",
    "print('before: ', emails_df.shape[0])\n",
    "emails_df = emails_df[~emails_df['Subject'].apply(find_forward_subject)]\n",
    "print('after: ', emails_df.shape[0])"
   ]
  },
  {
   "cell_type": "code",
   "execution_count": null,
   "metadata": {},
   "outputs": [],
   "source": [
    "# emails_df['has_reply_forward_in_msg'].value_counts()"
   ]
  },
  {
   "cell_type": "code",
   "execution_count": null,
   "metadata": {},
   "outputs": [],
   "source": [
    "# Remove the emails that have reply or forward\n",
    "# emails_df = emails_df[emails_df['has_reply_forward_in_msg'] == False]\n",
    "# emails_df['has_reply_forward_in_msg'].value_counts()\n",
    "# emails_df.drop(columns=['has_reply_forward_in_msg'], inplace=True)\n"
   ]
  },
  {
   "cell_type": "code",
   "execution_count": null,
   "metadata": {},
   "outputs": [
    {
     "name": "stderr",
     "output_type": "stream",
     "text": [
      "/var/folders/cv/swyglqyx1tlc_6vc0p615fhr0000gn/T/ipykernel_70781/871204959.py:38: MarkupResemblesLocatorWarning: The input passed in on this line looks more like a URL than HTML or XML.\n",
      "\n",
      "If you meant to use Beautiful Soup to parse the web page found at a certain URL, then something has gone wrong. You should use an Python package like 'requests' to fetch the content behind the URL. Once you have the content as a string, you can feed that string into Beautiful Soup.\n",
      "\n",
      "However, if you want to parse some data that happens to look like a URL, then nothing has gone wrong: you are using Beautiful Soup correctly, and this warning is spurious and can be filtered. To make this warning go away, run this code before calling the BeautifulSoup constructor:\n",
      "\n",
      "    from bs4 import MarkupResemblesLocatorWarning\n",
      "    import warnings\n",
      "\n",
      "    warnings.filterwarnings(\"ignore\", category=MarkupResemblesLocatorWarning)\n",
      "    \n",
      "  return BeautifulSoup(msg_body, 'html.parser').get_text()\n",
      "/var/folders/cv/swyglqyx1tlc_6vc0p615fhr0000gn/T/ipykernel_70781/871204959.py:38: MarkupResemblesLocatorWarning: The input passed in on this line looks more like a filename than HTML or XML.\n",
      "\n",
      "If you meant to use Beautiful Soup to parse the contents of a file on disk, then something has gone wrong. You should open the file first, using code like this:\n",
      "\n",
      "    filehandle = open(your filename)\n",
      "\n",
      "You can then feed the open filehandle into Beautiful Soup instead of using the filename.\n",
      "\n",
      "However, if you want to parse some data that happens to look like a filename, then nothing has gone wrong: you are using Beautiful Soup correctly, and this warning is spurious and can be filtered. To make this warning go away, run this code before calling the BeautifulSoup constructor:\n",
      "\n",
      "    from bs4 import MarkupResemblesLocatorWarning\n",
      "    import warnings\n",
      "\n",
      "    warnings.filterwarnings(\"ignore\", category=MarkupResemblesLocatorWarning)\n",
      "    \n",
      "  return BeautifulSoup(msg_body, 'html.parser').get_text()\n"
     ]
    }
   ],
   "source": [
    "# clean msg body\n",
    "email_endings = ['best regards', 'regards', 'best', 'All the best', 'sincerely', 'cheers', 'thanks',\n",
    "                'thank you', 'warm regards', 'yours truly', 'yours sincerely', 'yours faithfully',\n",
    "                'yours', 'kind regards', 'cordially', 'respectfully', 'with regards', 'with best regards',\n",
    "                  'with warm regards', 'with sincere regards', 'with gratitude', 'with appreciation', 'with thanks',\n",
    "                    'with warmest regards', 'with deepest gratitude', 'with deepest appreciation', 'with deepest thanks']\n",
    "escaped_endings = [re.escape(endings) for endings in email_endings]\n",
    "\n",
    "common_signature = ['Enron North America Corp.', 'Carol St. Clair', 'Debra Perlingiere', 'Keegan Farrell', 'Eric Bass']\n",
    "escaped_signature = [re.escape(sig) for sig in common_signature]\n",
    "\n",
    "\n",
    "IMAGE_PATTERN = re.compile(r'\\[IMAGE\\]')\n",
    "URL_PATTERN = re.compile(r'https?://\\S+|www\\.\\S+')\n",
    "FILE_PATTERN = re.compile(r'[-|\\s]?[a-zA-Z0-9_-]+\\.(?:txt|pdf|docx?|xlsx?|pptx?|csv)')\n",
    "PHONE_NUM_START_PATTERN = re.compile(r'(?i)^\\s*(?:\\(?(phone|fax|mobile|mob|tel|office)\\)?:?\\s*)?(?:\\+?\\d{1,3}[\\s\\-]?)?\\d{2,4}[\\s\\-]?\\d{3}[\\s\\-]?\\d{4}[\\s\\S]*$')\n",
    "EMAIL_SIGNOFF_PATTERN = re.compile(r'(?im)^\\s*(?:' + \"|\".join(escaped_endings) + r')[\\s\\S]*')\n",
    "EMAIL_SIGNATURE_PATTERN = re.compile(r'(?im)^\\s*(?:' + \"|\".join(escaped_signature) + r')[\\s\\S]*')\n",
    "EMAIL_HEADER_PATTERN = re.compile(r'(?:Subject|To|Cc|Bcc|From|Sent|Content-Type|Content-Transfer-Encoding|MIME-Version):\\s+.*\\n', re.IGNORECASE)\n",
    "PRICE_MASK_PATTERN = re.compile(r'\\$\\d+(?:\\.\\d{1,2})?(?:\\s*[-\\u2013*]\\s*\\$\\d+(?:\\.\\d{1,2})?)?')\n",
    "PERCENTAGE_MASK_PATTERN = re.compile(r'(?:\\d+(?:\\.\\d{1,3})?(?:\\s*\\%(?:\\s*[-\\u2013*]\\s*\\d+(?:\\.\\d{1,3})?\\s*\\%?)?))')\n",
    "PHONE_PATTERN = re.compile(r'(?i)(?:\\+?\\d{1,3}[\\s\\-\\.]?)?\\(?\\d{2,4}\\)?[\\s\\-\\.]?\\d{2,3}[\\s\\-\\.]?\\d{3,4}')\n",
    "LOCAL_PHONE_PATTERN = re.compile(r'\\b\\d{3}[-\\s\\.]?\\d{4}\\b')\n",
    "EMAIL_PATTERN = re.compile(r'\\b[\\w\\.-]+@[\\w\\.-]+\\.\\w+\\b')\n",
    "NUM_DATE_PATTERN = re.compile(r'\\b(?:\\d{1,2}[-/]\\d{1,2}[-/]\\d{2,4}|\\d{2,4}[-/]\\d{1,2}[-/]\\d{1,2})\\b')\n",
    "TEXTUAL_DATE_PATTERN = re.compile(r'(?i)\\b(?:(?:Jan|Feb|Mar|Apr|May|Jun|Jul|Aug|Sep|Sept|Oct|Nov|Dec|January|February|March|April|May|June|July|August|September|October|November|December)\\s+\\d{1,2}(?:st|nd|rd|th)?(?:,)?\\s+\\d{4})\\b')\n",
    "TIME_PATTERN = re.compile(r'(?i)\\b\\d{1,2}:\\d{2}(:\\d{2})?\\s*(AM|PM)?\\b')\n",
    "RECIPIENT_BLOCK_PATTERN = re.compile(r'(?i)\\n\\s*[A-Z][a-z]+(?:\\s+[A-Z][a-z]+)?/[A-Z]+@[\\w/]+[\\s\\S]*',)\n",
    "TAB_SPACE_PATTERN = re.compile(r'[ \\t]+')\n",
    "MULTIPLE_NEWLINES_PATTERN = re.compile(r'\\n{2,}')\n",
    "# PROMO_PATTERN = re.compile(r\"\"\"\n",
    "#                         unsubscribe|limited time offer|buy now|discount|promo code|click here|order now|shop now\n",
    "#                         |save now|exclusive deal|offer expires|last chance|order today|shop today|limited offer\n",
    "#                         |special offer|guarantee\"\"\"\n",
    "#                         ,re.IGNORECASE | re.VERBOSE)\n",
    "\n",
    "def clean_html(msg_body):\n",
    "    return BeautifulSoup(msg_body, 'html.parser').get_text()\n",
    "\n",
    "def clean_msg_body(msg_body):\n",
    "    if not isinstance(msg_body, str):\n",
    "        return ''\n",
    "\n",
    "    # Try decoding Quoted-Printable format\n",
    "    try:\n",
    "        msg_body = quopri.decodestring(msg_body).decode('utf-8', errors='ignore')\n",
    "    except Exception:\n",
    "        pass   # If decoding fails, keep the original message\n",
    "\n",
    "    msg_body = clean_html(msg_body)\n",
    "    msg_body = EMAIL_SIGNOFF_PATTERN.sub('', msg_body)\n",
    "    msg_body = EMAIL_SIGNATURE_PATTERN.sub('', msg_body)\n",
    "    msg_body = PHONE_NUM_START_PATTERN.sub('', msg_body)\n",
    "    msg_body = EMAIL_HEADER_PATTERN.sub('', msg_body)\n",
    "    msg_body = IMAGE_PATTERN.sub('', msg_body)\n",
    "    msg_body = URL_PATTERN.sub('', msg_body)\n",
    "    msg_body = FILE_PATTERN.sub('', msg_body)\n",
    "    msg_body = RECIPIENT_BLOCK_PATTERN.sub('', msg_body)\n",
    "    msg_body = PRICE_MASK_PATTERN.sub('$X', msg_body)\n",
    "    msg_body = EMAIL_PATTERN.sub('[EMAIL]', msg_body)\n",
    "    msg_body = PERCENTAGE_MASK_PATTERN.sub('X%', msg_body)\n",
    "    msg_body = PHONE_PATTERN.sub('[PHONE]', msg_body)\n",
    "    msg_body = LOCAL_PHONE_PATTERN.sub('[PHONE]', msg_body)\n",
    "    msg_body = NUM_DATE_PATTERN.sub('[DATE]', msg_body)\n",
    "    msg_body = TEXTUAL_DATE_PATTERN.sub('[DATE]', msg_body)\n",
    "    msg_body = TIME_PATTERN.sub('[TIME]', msg_body)\n",
    "    msg_body = TAB_SPACE_PATTERN.sub(' ', msg_body)\n",
    "\n",
    "    # Collapse multiple newlines, but preserve one newline between blocks of text\n",
    "    msg_body = MULTIPLE_NEWLINES_PATTERN.sub('\\n\\n', msg_body)\n",
    "\n",
    "    # Strip each line and remove lines that are purely whitespace\n",
    "    lines = [line.strip() for line in msg_body.split('\\n')]\n",
    "    msg_body = '\\n'.join([line for line in lines if line])\n",
    "\n",
    "    msg_body = msg_body.strip()\n",
    "\n",
    "    return msg_body\n",
    "\n",
    "emails_df['Message-Body'] = emails_df['Message-Body'].apply(clean_msg_body)"
   ]
  },
  {
   "cell_type": "code",
   "execution_count": null,
   "metadata": {},
   "outputs": [
    {
     "data": {
      "text/html": [
       "<div>\n",
       "<style scoped>\n",
       "    .dataframe tbody tr th:only-of-type {\n",
       "        vertical-align: middle;\n",
       "    }\n",
       "\n",
       "    .dataframe tbody tr th {\n",
       "        vertical-align: top;\n",
       "    }\n",
       "\n",
       "    .dataframe thead th {\n",
       "        text-align: right;\n",
       "    }\n",
       "</style>\n",
       "<table border=\"1\" class=\"dataframe\">\n",
       "  <thead>\n",
       "    <tr style=\"text-align: right;\">\n",
       "      <th></th>\n",
       "      <th>count</th>\n",
       "      <th>unique</th>\n",
       "      <th>top</th>\n",
       "      <th>freq</th>\n",
       "    </tr>\n",
       "  </thead>\n",
       "  <tbody>\n",
       "    <tr>\n",
       "      <th>Date</th>\n",
       "      <td>317504</td>\n",
       "      <td>136816</td>\n",
       "      <td>Mon, 31 Dec 1979 16:00:00 -0800 (PST)</td>\n",
       "      <td>281</td>\n",
       "    </tr>\n",
       "    <tr>\n",
       "      <th>From</th>\n",
       "      <td>317504</td>\n",
       "      <td>17468</td>\n",
       "      <td>pete.davis@enron.com</td>\n",
       "      <td>9147</td>\n",
       "    </tr>\n",
       "    <tr>\n",
       "      <th>To</th>\n",
       "      <td>317504</td>\n",
       "      <td>39191</td>\n",
       "      <td>pete.davis@enron.com</td>\n",
       "      <td>9146</td>\n",
       "    </tr>\n",
       "    <tr>\n",
       "      <th>Subject</th>\n",
       "      <td>317504</td>\n",
       "      <td>101570</td>\n",
       "      <td>No Subject</td>\n",
       "      <td>14810</td>\n",
       "    </tr>\n",
       "    <tr>\n",
       "      <th>X-From</th>\n",
       "      <td>317504</td>\n",
       "      <td>23377</td>\n",
       "      <td>Enron Announcements</td>\n",
       "      <td>8525</td>\n",
       "    </tr>\n",
       "    <tr>\n",
       "      <th>X-To</th>\n",
       "      <td>317504</td>\n",
       "      <td>47783</td>\n",
       "      <td>pete.davis@enron.com</td>\n",
       "      <td>5334</td>\n",
       "    </tr>\n",
       "    <tr>\n",
       "      <th>Message-Body</th>\n",
       "      <td>317504</td>\n",
       "      <td>133025</td>\n",
       "      <td></td>\n",
       "      <td>8845</td>\n",
       "    </tr>\n",
       "  </tbody>\n",
       "</table>\n",
       "</div>"
      ],
      "text/plain": [
       "               count  unique                                    top   freq\n",
       "Date          317504  136816  Mon, 31 Dec 1979 16:00:00 -0800 (PST)    281\n",
       "From          317504   17468                   pete.davis@enron.com   9147\n",
       "To            317504   39191                   pete.davis@enron.com   9146\n",
       "Subject       317504  101570                             No Subject  14810\n",
       "X-From        317504   23377                    Enron Announcements   8525\n",
       "X-To          317504   47783                   pete.davis@enron.com   5334\n",
       "Message-Body  317504  133025                                          8845"
      ]
     },
     "execution_count": 18,
     "metadata": {},
     "output_type": "execute_result"
    }
   ],
   "source": [
    "emails_df.describe().T"
   ]
  },
  {
   "cell_type": "code",
   "execution_count": null,
   "metadata": {},
   "outputs": [
    {
     "name": "stdout",
     "output_type": "stream",
     "text": [
      "Message-Body\n",
      "                                                                                                                                                                                                                                                                                                                                                                                                                                                                                                                            8845\n",
      "LOG MESSAGES:\\nPARSING FILE -->> O:\\Portland\\WestDesk\\California Scheduling\\ISO Final Schedules\\                                                                                                                                                                                                                                                                                                                                                                                                                             788\n",
      "(See attached file:)\\n-                                                                                                                                                                                                                                                                                                                                                                                                                                                                                                      695\n",
      "-                                                                                                                                                                                                                                                                                                                                                                                                                                                                                                                            369\n",
      "The report named: East P/L Totals , published as of [DATE] is now available for viewing on the website.                                                                                                                                                                                                                                                                                                                                                                                                                      264\n",
      "                                                                                                                                                                                                                                                                                                                                                                                                                                                                                                                            ... \n",
      "Dear Friends,\\nOur wedding is approaching, and we are looking forward to\\nseeing you on [DATE]... 61 days & counting!\\nFor your convenience, you may look up any wedding details\\nthat you may need (& read our cute story:)on this website &\\nyou may visit our gift registry online at\\nWeddingChannel.com. Just click on the following link (or\\ncopy and paste the link into the address line of your web\\nbrowser):\\nYou can always search for us from the WeddingChannel.com\\nhomepage at We are thinking\\nof you!       1\n",
      "Matt, I need your mailing address for the wedding invites. Email me back by\\nThursday. Thanks\\n--ALEx\\n_________________________________________________________________\\nGet your FREE download of MSN Explorer at                                                                                                                                                                                                                                                                                                            1\n",
      "All who do not attend Saturday's game cannot call themselves LSU fans and will subsequently be removed from this list.                                                                                                                                                                                                                                                                                                                                                                                                         1\n",
      "that ticket is yours if you want it. pay bass $X                                                                                                                                                                                                                                                                                                                                                                                                                                                                               1\n",
      "Analyst Rank\\nStephane Brodeur 1\\nChad Clark 1\\nIan Cooke 3\\nLon Draper 1\\nFabian Taylor 2\\nCarlos Torres 3\\nRyan Watt 1\\nAssociate\\nCooper Richey 1                                                                                                                                                                                                                                                                                                                                                                           1\n",
      "Name: count, Length: 133025, dtype: int64\n"
     ]
    }
   ],
   "source": [
    "# drop duplicates\n",
    "print(emails_df['Message-Body'].value_counts())\n",
    "emails_df.drop_duplicates(subset=['Message-Body'], inplace=True)\n",
    "emails_df.dropna(subset=['Message-Body'], inplace=True)\n",
    "emails_df.reset_index(drop=True, inplace=True)"
   ]
  },
  {
   "cell_type": "code",
   "execution_count": null,
   "metadata": {},
   "outputs": [
    {
     "data": {
      "text/html": [
       "<div>\n",
       "<style scoped>\n",
       "    .dataframe tbody tr th:only-of-type {\n",
       "        vertical-align: middle;\n",
       "    }\n",
       "\n",
       "    .dataframe tbody tr th {\n",
       "        vertical-align: top;\n",
       "    }\n",
       "\n",
       "    .dataframe thead th {\n",
       "        text-align: right;\n",
       "    }\n",
       "</style>\n",
       "<table border=\"1\" class=\"dataframe\">\n",
       "  <thead>\n",
       "    <tr style=\"text-align: right;\">\n",
       "      <th></th>\n",
       "      <th>count</th>\n",
       "      <th>unique</th>\n",
       "      <th>top</th>\n",
       "      <th>freq</th>\n",
       "    </tr>\n",
       "  </thead>\n",
       "  <tbody>\n",
       "    <tr>\n",
       "      <th>Date</th>\n",
       "      <td>133025</td>\n",
       "      <td>121785</td>\n",
       "      <td>Mon, 31 Dec 1979 16:00:00 -0800 (PST)</td>\n",
       "      <td>167</td>\n",
       "    </tr>\n",
       "    <tr>\n",
       "      <th>From</th>\n",
       "      <td>133025</td>\n",
       "      <td>16762</td>\n",
       "      <td>jeff.dasovich@enron.com</td>\n",
       "      <td>2746</td>\n",
       "    </tr>\n",
       "    <tr>\n",
       "      <th>To</th>\n",
       "      <td>133025</td>\n",
       "      <td>37397</td>\n",
       "      <td>sara.shackleton@enron.com</td>\n",
       "      <td>1485</td>\n",
       "    </tr>\n",
       "    <tr>\n",
       "      <th>Subject</th>\n",
       "      <td>133025</td>\n",
       "      <td>93765</td>\n",
       "      <td>No Subject</td>\n",
       "      <td>6265</td>\n",
       "    </tr>\n",
       "    <tr>\n",
       "      <th>X-From</th>\n",
       "      <td>133025</td>\n",
       "      <td>22128</td>\n",
       "      <td>Jeff Dasovich</td>\n",
       "      <td>2308</td>\n",
       "    </tr>\n",
       "    <tr>\n",
       "      <th>X-To</th>\n",
       "      <td>133025</td>\n",
       "      <td>44904</td>\n",
       "      <td>klay@enron.com</td>\n",
       "      <td>1240</td>\n",
       "    </tr>\n",
       "    <tr>\n",
       "      <th>Message-Body</th>\n",
       "      <td>133025</td>\n",
       "      <td>133025</td>\n",
       "      <td>Here is our forecast</td>\n",
       "      <td>1</td>\n",
       "    </tr>\n",
       "  </tbody>\n",
       "</table>\n",
       "</div>"
      ],
      "text/plain": [
       "               count  unique                                    top  freq\n",
       "Date          133025  121785  Mon, 31 Dec 1979 16:00:00 -0800 (PST)   167\n",
       "From          133025   16762                jeff.dasovich@enron.com  2746\n",
       "To            133025   37397              sara.shackleton@enron.com  1485\n",
       "Subject       133025   93765                             No Subject  6265\n",
       "X-From        133025   22128                          Jeff Dasovich  2308\n",
       "X-To          133025   44904                         klay@enron.com  1240\n",
       "Message-Body  133025  133025                   Here is our forecast     1"
      ]
     },
     "execution_count": 20,
     "metadata": {},
     "output_type": "execute_result"
    }
   ],
   "source": [
    "emails_df.describe().T"
   ]
  },
  {
   "cell_type": "code",
   "execution_count": null,
   "metadata": {},
   "outputs": [],
   "source": []
  },
  {
   "cell_type": "code",
   "execution_count": null,
   "metadata": {},
   "outputs": [
    {
     "name": "stdout",
     "output_type": "stream",
     "text": [
      "before:  133025\n",
      "after:  100726\n"
     ]
    }
   ],
   "source": [
    "# Remove short, low value emails\n",
    "def is_low_value(msg_body, min_word_count=25):\n",
    "    if not isinstance(msg_body, str):\n",
    "        return False\n",
    "    # if len(msg_body.split()) < min_word_count:\n",
    "\n",
    "    msg_cleaned = re.sub(r'[^a-zA-Z]', ' ', msg_body).strip()\n",
    "    return len(msg_cleaned.split()) < min_word_count\n",
    "\n",
    "print('before: ', emails_df.shape[0])\n",
    "emails_df = emails_df[~emails_df['Message-Body'].apply(is_low_value)]\n",
    "print('after: ', emails_df.shape[0])"
   ]
  },
  {
   "cell_type": "code",
   "execution_count": null,
   "metadata": {},
   "outputs": [
    {
     "name": "stdout",
     "output_type": "stream",
     "text": [
      "before:  100726\n",
      "after:  92376\n"
     ]
    }
   ],
   "source": [
    "MACHINE_GEN_REPORT_PATTERN = re.compile(r'^The\\sreport\\snamed:.*\\n*(?:.*\\n)*\\(Revision: \\d+\\)\\s*$')\n",
    "SUBSCRIPTION_PATTERN = re.compile(r'(?i)unsubscribe|subscription|click here to unsubscribe|click here to manage your subscription|click here to change your subscription|click here to update your subscription|click here to change your email preferences|click here to unsubscribe|click here to manage your email preferences|click here to update')\n",
    "\n",
    "def is_unwanted(msg_body):\n",
    "    if not isinstance(msg_body, str):\n",
    "        return False\n",
    "    if MACHINE_GEN_REPORT_PATTERN.match(msg_body):\n",
    "        return True\n",
    "    if SUBSCRIPTION_PATTERN.search(msg_body):\n",
    "        return True\n",
    "    return False\n",
    "\n",
    "print('before: ', emails_df.shape[0])\n",
    "emails_df = emails_df[~emails_df['Message-Body'].apply(is_unwanted)]\n",
    "print('after: ', emails_df.shape[0])"
   ]
  },
  {
   "cell_type": "code",
   "execution_count": null,
   "metadata": {},
   "outputs": [
    {
     "name": "stdout",
     "output_type": "stream",
     "text": [
      "before:  92376\n",
      "after:  90780\n"
     ]
    }
   ],
   "source": [
    "# Remove emails that are auto-generated or system generated\n",
    "NOREPLY_PATTERN = re.compile(r'(?i)no(\\.|-)?reply|do(\\.|-)?not(\\.|-)?reply|auto(\\.|-)?generated|system|notification|daemon')\n",
    "\n",
    "def is_bad_source(sender):\n",
    "    if not isinstance(sender, str):\n",
    "        return False\n",
    "\n",
    "    return bool(re.search(NOREPLY_PATTERN, sender))\n",
    "\n",
    "print('before: ', emails_df.shape[0])\n",
    "emails_df = emails_df[~emails_df['From'].apply(is_bad_source)]\n",
    "print('after: ', emails_df.shape[0])"
   ]
  },
  {
   "cell_type": "code",
   "execution_count": null,
   "metadata": {},
   "outputs": [
    {
     "name": "stdout",
     "output_type": "stream",
     "text": [
      "before:  90780\n",
      "after:  90747\n"
     ]
    }
   ],
   "source": [
    "# Remove emails that are auto-generated or system generated\n",
    "STRUCTURED_REPORT_PATTERN = ['newsletter', 'weekly report', 'daily report', 'bulletin', 'digest', 'notification', 'weekly digest', 'daily digest', 'monthly digest', 'quarterly digest', 'annual digest']\n",
    "\n",
    "def is_unwanted_subject(subject):\n",
    "    if not isinstance(subject, str):\n",
    "        return False\n",
    "    if any(keyword in subject for keyword in STRUCTURED_REPORT_PATTERN):\n",
    "        return True\n",
    "    return False\n",
    "\n",
    "print('before: ', emails_df.shape[0])\n",
    "emails_df = emails_df[~emails_df['Subject'].apply(is_unwanted_subject)]\n",
    "print('after: ', emails_df.shape[0])"
   ]
  },
  {
   "cell_type": "code",
   "execution_count": null,
   "metadata": {},
   "outputs": [
    {
     "name": "stdout",
     "output_type": "stream",
     "text": [
      "before:  90747\n",
      "after:  66276\n"
     ]
    }
   ],
   "source": [
    "# Remove emails from non-enron sources\n",
    "def is_from_enron(sender):\n",
    "    if not isinstance(sender, str):\n",
    "        return False\n",
    "\n",
    "    return sender.lower().endswith('enron.com')\n",
    "\n",
    "print('before: ', emails_df.shape[0])\n",
    "emails_df = emails_df[emails_df['From'].apply(is_from_enron)]\n",
    "print('after: ', emails_df.shape[0])"
   ]
  },
  {
   "cell_type": "code",
   "execution_count": null,
   "metadata": {},
   "outputs": [
    {
     "name": "stdout",
     "output_type": "stream",
     "text": [
      "1813\n"
     ]
    }
   ],
   "source": [
    "self_sent_count = (emails_df[\"From\"] == emails_df[\"To\"]).sum()\n",
    "print(self_sent_count)"
   ]
  },
  {
   "cell_type": "code",
   "execution_count": null,
   "metadata": {},
   "outputs": [
    {
     "name": "stdout",
     "output_type": "stream",
     "text": [
      "                                        Date                    From  \\\n",
      "25680  Mon, 15 Oct 2001 15:38:27 -0700 (PDT)    pete.davis@enron.com   \n",
      "21868  Wed, 27 Dec 2000 14:06:00 -0800 (PST)   steven.kean@enron.com   \n",
      "40649  Mon, 16 Apr 2001 14:43:00 -0700 (PDT)    pete.davis@enron.com   \n",
      "40642  Sun, 29 Apr 2001 23:41:00 -0700 (PDT)    pete.davis@enron.com   \n",
      "40616  Wed, 18 Apr 2001 08:42:00 -0700 (PDT)    pete.davis@enron.com   \n",
      "40992  Thu, 26 Apr 2001 11:41:00 -0700 (PDT)    pete.davis@enron.com   \n",
      "40985   Tue, 6 Mar 2001 23:39:00 -0800 (PST)    pete.davis@enron.com   \n",
      "25800  Sun, 21 Oct 2001 19:49:31 -0700 (PDT)    pete.davis@enron.com   \n",
      "39974  Wed, 28 Feb 2001 07:38:00 -0800 (PST)    pete.davis@enron.com   \n",
      "88735  Tue, 20 Nov 2001 17:22:57 -0800 (PST)  gerald.nemec@enron.com   \n",
      "\n",
      "                           To  \\\n",
      "25680    pete.davis@enron.com   \n",
      "21868   steven.kean@enron.com   \n",
      "40649    pete.davis@enron.com   \n",
      "40642    pete.davis@enron.com   \n",
      "40616    pete.davis@enron.com   \n",
      "40992    pete.davis@enron.com   \n",
      "40985    pete.davis@enron.com   \n",
      "25800    pete.davis@enron.com   \n",
      "39974    pete.davis@enron.com   \n",
      "88735  gerald.nemec@enron.com   \n",
      "\n",
      "                                                 Subject  \\\n",
      "25680  Start Date: 10/15/01; HourAhead hour: 18;  <CO...   \n",
      "21868                                                Re:   \n",
      "40649  Start Date: 4/16/01; HourAhead hour: 22;  <COD...   \n",
      "40642  Start Date: 4/30/01; HourAhead hour: 7;  <CODE...   \n",
      "40616  Start Date: 4/18/01; HourAhead hour: 16;  <COD...   \n",
      "40992  Start Date: 4/26/01; HourAhead hour: 19;  <COD...   \n",
      "40985  Start Date: 3/7/01; HourAhead hour: 8;  <CODES...   \n",
      "25800     Schedule Crawler: HourAhead Failure <CODESITE>   \n",
      "39974  Start Date: 2/28/01; HourAhead hour: 16;  <COD...   \n",
      "88735                               Synchronization Log:   \n",
      "\n",
      "                                                  X-From  \\\n",
      "25680  Davis, Pete </O=ENRON/OU=NA/CN=RECIPIENTS/CN=P...   \n",
      "21868                                      Steven J Kean   \n",
      "40649             Schedule Crawler<pete.davis@enron.com>   \n",
      "40642             Schedule Crawler<pete.davis@enron.com>   \n",
      "40616             Schedule Crawler<pete.davis@enron.com>   \n",
      "40992             Schedule Crawler<pete.davis@enron.com>   \n",
      "40985             Schedule Crawler<pete.davis@enron.com>   \n",
      "25800  Davis, Pete </O=ENRON/OU=NA/CN=RECIPIENTS/CN=P...   \n",
      "39974             Schedule Crawler<pete.davis@enron.com>   \n",
      "88735  Nemec, Gerald </O=ENRON/OU=NA/CN=RECIPIENTS/CN...   \n",
      "\n",
      "                                                    X-To  \\\n",
      "25680  Davis, Pete </O=ENRON/OU=NA/CN=RECIPIENTS/CN=P...   \n",
      "21868                                      Steven J Kean   \n",
      "40649                               pete.davis@enron.com   \n",
      "40642                               pete.davis@enron.com   \n",
      "40616                               pete.davis@enron.com   \n",
      "40992                               pete.davis@enron.com   \n",
      "40985                               pete.davis@enron.com   \n",
      "25800  Davis, Pete </O=ENRON/OU=NA/CN=RECIPIENTS/CN=P...   \n",
      "39974                               pete.davis@enron.com   \n",
      "88735  Nemec, Gerald </O=ENRON/OU=NA/CN=RECIPIENTS/CN...   \n",
      "\n",
      "                                            Message-Body  \n",
      "25680  Start Date: [DATE]; HourAhead hour: 18; No anc...  \n",
      "21868  We are now scheduled to meet with the gov. tom...  \n",
      "40649  Start Date: [DATE]; HourAhead hour: 22; No anc...  \n",
      "40642  Start Date: [DATE]; HourAhead hour: 7; No anci...  \n",
      "40616  Start Date: [DATE]; HourAhead hour: 16; No anc...  \n",
      "40992  Start Date: [DATE]; HourAhead hour: 19; No anc...  \n",
      "40985  Start Date: [DATE]; HourAhead hour: 8; No anci...  \n",
      "25800  Start Date: [DATE]; HourAhead hour: 20; HourAh...  \n",
      "39974  Start Date: [DATE]; HourAhead hour: 16; No anc...  \n",
      "88735  [TIME]Synchronizing Mailbox 'Nemec, Gerald'\\n[...  \n"
     ]
    }
   ],
   "source": [
    "print(emails_df[emails_df[\"From\"] == emails_df[\"To\"]].sample(10))"
   ]
  },
  {
   "cell_type": "code",
   "execution_count": null,
   "metadata": {},
   "outputs": [
    {
     "name": "stdout",
     "output_type": "stream",
     "text": [
      "before:  66276\n",
      "after:  64463\n"
     ]
    }
   ],
   "source": [
    "# Remove self-sent emails, coz usually are automated logs or reports\n",
    "print('before: ', emails_df.shape[0])\n",
    "emails_df = emails_df[emails_df['From'] != emails_df['To']]\n",
    "print('after: ', emails_df.shape[0])"
   ]
  },
  {
   "cell_type": "code",
   "execution_count": null,
   "metadata": {},
   "outputs": [
    {
     "name": "stdout",
     "output_type": "stream",
     "text": [
      "before:  Index(['Date', 'From', 'To', 'Subject', 'X-From', 'X-To', 'Message-Body'], dtype='object')\n",
      "after:  Index(['Date', 'From', 'To', 'Subject', 'X_From', 'X_To', 'Message'], dtype='object')\n"
     ]
    }
   ],
   "source": [
    "print('before: ', emails_df.columns)\n",
    "emails_df = emails_df.rename(columns={'Message-Body': 'Message', 'X-From': 'X_From', 'X-To': 'X_To'})\n",
    "print('after: ', emails_df.columns)\n",
    "emails_df.reset_index(drop=True, inplace=True)"
   ]
  },
  {
   "cell_type": "code",
   "execution_count": null,
   "metadata": {},
   "outputs": [],
   "source": [
    "EMAIL_PATTERN = re.compile(r'\\b[\\w\\.-]+@[\\w\\.-]+\\.\\w+\\b')\n",
    "\n",
    "def clean_emails_in_subject(subject):\n",
    "    if not isinstance(subject, str):\n",
    "        return ''\n",
    "\n",
    "    return EMAIL_PATTERN.sub('[EMAIL]', subject)\n",
    "\n",
    "emails_df['Subject'] = emails_df['Subject'].apply(clean_emails_in_subject)"
   ]
  },
  {
   "cell_type": "code",
   "execution_count": null,
   "metadata": {},
   "outputs": [],
   "source": [
    "emails_df['Entire-Message'] = emails_df['Subject'].fillna('') + ' ' + emails_df['Message'].fillna('')"
   ]
  },
  {
   "cell_type": "code",
   "execution_count": null,
   "metadata": {},
   "outputs": [
    {
     "data": {
      "text/plain": [
       "Date                  0\n",
       "From                  0\n",
       "To                    0\n",
       "Subject               0\n",
       "X_From                0\n",
       "X_To                  0\n",
       "Message               0\n",
       "Entire-Message        0\n",
       "DISC_rule         64463\n",
       "DISC_manual       64463\n",
       "DISC_final        64463\n",
       "dtype: int64"
      ]
     },
     "execution_count": 32,
     "metadata": {},
     "output_type": "execute_result"
    }
   ],
   "source": [
    "emails_df['DISC_rule'] = pd.NA\n",
    "emails_df['DISC_manual'] = pd.NA\n",
    "emails_df['DISC_final'] = pd.NA\n",
    "emails_df.isnull().sum()"
   ]
  },
  {
   "cell_type": "code",
   "execution_count": null,
   "metadata": {},
   "outputs": [],
   "source": [
    "# emails_df = emails_df.drop(columns=['DISC'])"
   ]
  },
  {
   "cell_type": "code",
   "execution_count": null,
   "metadata": {},
   "outputs": [],
   "source": [
    "emails_df.to_csv('../data/02_cleaned_emails_unlabelled_internal.csv', index=False)"
   ]
  },
  {
   "cell_type": "code",
   "execution_count": null,
   "metadata": {},
   "outputs": [],
   "source": [
    "# emails_df.to_csv('../data/02_cleaned_emails_unlabelled_below_100Mb.csv', index=False)"
   ]
  },
  {
   "cell_type": "code",
   "execution_count": null,
   "metadata": {},
   "outputs": [
    {
     "name": "stdout",
     "output_type": "stream",
     "text": [
      "<class 'pandas.core.frame.DataFrame'>\n",
      "RangeIndex: 64463 entries, 0 to 64462\n",
      "Data columns (total 11 columns):\n",
      " #   Column          Non-Null Count  Dtype \n",
      "---  ------          --------------  ----- \n",
      " 0   Date            64463 non-null  object\n",
      " 1   From            64463 non-null  object\n",
      " 2   To              64463 non-null  object\n",
      " 3   Subject         64463 non-null  object\n",
      " 4   X_From          64463 non-null  object\n",
      " 5   X_To            64463 non-null  object\n",
      " 6   Message         64463 non-null  object\n",
      " 7   Entire-Message  64463 non-null  object\n",
      " 8   DISC_rule       0 non-null      object\n",
      " 9   DISC_manual     0 non-null      object\n",
      " 10  DISC_final      0 non-null      object\n",
      "dtypes: object(11)\n",
      "memory usage: 5.4+ MB\n"
     ]
    }
   ],
   "source": [
    "emails_df.info()"
   ]
  },
  {
   "cell_type": "code",
   "execution_count": null,
   "metadata": {},
   "outputs": [
    {
     "data": {
      "text/html": [
       "<div>\n",
       "<style scoped>\n",
       "    .dataframe tbody tr th:only-of-type {\n",
       "        vertical-align: middle;\n",
       "    }\n",
       "\n",
       "    .dataframe tbody tr th {\n",
       "        vertical-align: top;\n",
       "    }\n",
       "\n",
       "    .dataframe thead th {\n",
       "        text-align: right;\n",
       "    }\n",
       "</style>\n",
       "<table border=\"1\" class=\"dataframe\">\n",
       "  <thead>\n",
       "    <tr style=\"text-align: right;\">\n",
       "      <th></th>\n",
       "      <th>Date</th>\n",
       "      <th>From</th>\n",
       "      <th>To</th>\n",
       "      <th>Subject</th>\n",
       "      <th>X_From</th>\n",
       "      <th>X_To</th>\n",
       "      <th>Message</th>\n",
       "      <th>Entire-Message</th>\n",
       "      <th>DISC_rule</th>\n",
       "      <th>DISC_manual</th>\n",
       "      <th>DISC_final</th>\n",
       "    </tr>\n",
       "  </thead>\n",
       "  <tbody>\n",
       "    <tr>\n",
       "      <th>0</th>\n",
       "      <td>Fri, 4 May 2001 13:51:00 -0700 (PDT)</td>\n",
       "      <td>phillip.allen@enron.com</td>\n",
       "      <td>john.lavorato@enron.com</td>\n",
       "      <td>Re:</td>\n",
       "      <td>Phillip K Allen</td>\n",
       "      <td>John J Lavorato &lt;John J Lavorato/ENRON@enronXg...</td>\n",
       "      <td>Traveling to have a business meeting takes the...</td>\n",
       "      <td>Re: Traveling to have a business meeting takes...</td>\n",
       "      <td>&lt;NA&gt;</td>\n",
       "      <td>&lt;NA&gt;</td>\n",
       "      <td>&lt;NA&gt;</td>\n",
       "    </tr>\n",
       "    <tr>\n",
       "      <th>1</th>\n",
       "      <td>Mon, 23 Oct 2000 06:13:00 -0700 (PDT)</td>\n",
       "      <td>phillip.allen@enron.com</td>\n",
       "      <td>randall.gay@enron.com</td>\n",
       "      <td>No Subject</td>\n",
       "      <td>Phillip K Allen</td>\n",
       "      <td>Randall L Gay</td>\n",
       "      <td>Randy,\\nCan you send me a schedule of the sala...</td>\n",
       "      <td>No Subject Randy,\\nCan you send me a schedule ...</td>\n",
       "      <td>&lt;NA&gt;</td>\n",
       "      <td>&lt;NA&gt;</td>\n",
       "      <td>&lt;NA&gt;</td>\n",
       "    </tr>\n",
       "    <tr>\n",
       "      <th>2</th>\n",
       "      <td>Tue, 17 Oct 2000 02:26:00 -0700 (PDT)</td>\n",
       "      <td>phillip.allen@enron.com</td>\n",
       "      <td>mark.scott@enron.com</td>\n",
       "      <td>Re: High Speed Internet Access</td>\n",
       "      <td>Phillip K Allen</td>\n",
       "      <td>Mark Scott</td>\n",
       "      <td>1. login: pallen pw: ke9davis\\nI don't think t...</td>\n",
       "      <td>Re: High Speed Internet Access 1. login: palle...</td>\n",
       "      <td>&lt;NA&gt;</td>\n",
       "      <td>&lt;NA&gt;</td>\n",
       "      <td>&lt;NA&gt;</td>\n",
       "    </tr>\n",
       "    <tr>\n",
       "      <th>3</th>\n",
       "      <td>Mon, 16 Oct 2000 06:42:00 -0700 (PDT)</td>\n",
       "      <td>phillip.allen@enron.com</td>\n",
       "      <td>buck.buckner@honeywell.com</td>\n",
       "      <td>Re: FW: fixed forward or other Collar floor ga...</td>\n",
       "      <td>Phillip K Allen</td>\n",
       "      <td>\"Buckner, Buck\" &lt;buck.buckner@honeywell.com&gt; @...</td>\n",
       "      <td>Mr. Buckner,\\nFor delivered gas behind San Die...</td>\n",
       "      <td>Re: FW: fixed forward or other Collar floor ga...</td>\n",
       "      <td>&lt;NA&gt;</td>\n",
       "      <td>&lt;NA&gt;</td>\n",
       "      <td>&lt;NA&gt;</td>\n",
       "    </tr>\n",
       "    <tr>\n",
       "      <th>4</th>\n",
       "      <td>Fri, 13 Oct 2000 06:45:00 -0700 (PDT)</td>\n",
       "      <td>phillip.allen@enron.com</td>\n",
       "      <td>stagecoachmama@hotmail.com</td>\n",
       "      <td>No Subject</td>\n",
       "      <td>Phillip K Allen</td>\n",
       "      <td>stagecoachmama@hotmail.com</td>\n",
       "      <td>Lucy,\\nHere are the rentrolls:\\nOpen them and ...</td>\n",
       "      <td>No Subject Lucy,\\nHere are the rentrolls:\\nOpe...</td>\n",
       "      <td>&lt;NA&gt;</td>\n",
       "      <td>&lt;NA&gt;</td>\n",
       "      <td>&lt;NA&gt;</td>\n",
       "    </tr>\n",
       "  </tbody>\n",
       "</table>\n",
       "</div>"
      ],
      "text/plain": [
       "                                    Date                     From  \\\n",
       "0   Fri, 4 May 2001 13:51:00 -0700 (PDT)  phillip.allen@enron.com   \n",
       "1  Mon, 23 Oct 2000 06:13:00 -0700 (PDT)  phillip.allen@enron.com   \n",
       "2  Tue, 17 Oct 2000 02:26:00 -0700 (PDT)  phillip.allen@enron.com   \n",
       "3  Mon, 16 Oct 2000 06:42:00 -0700 (PDT)  phillip.allen@enron.com   \n",
       "4  Fri, 13 Oct 2000 06:45:00 -0700 (PDT)  phillip.allen@enron.com   \n",
       "\n",
       "                           To  \\\n",
       "0     john.lavorato@enron.com   \n",
       "1       randall.gay@enron.com   \n",
       "2        mark.scott@enron.com   \n",
       "3  buck.buckner@honeywell.com   \n",
       "4  stagecoachmama@hotmail.com   \n",
       "\n",
       "                                             Subject           X_From  \\\n",
       "0                                                Re:  Phillip K Allen   \n",
       "1                                         No Subject  Phillip K Allen   \n",
       "2                     Re: High Speed Internet Access  Phillip K Allen   \n",
       "3  Re: FW: fixed forward or other Collar floor ga...  Phillip K Allen   \n",
       "4                                         No Subject  Phillip K Allen   \n",
       "\n",
       "                                                X_To  \\\n",
       "0  John J Lavorato <John J Lavorato/ENRON@enronXg...   \n",
       "1                                      Randall L Gay   \n",
       "2                                         Mark Scott   \n",
       "3  \"Buckner, Buck\" <buck.buckner@honeywell.com> @...   \n",
       "4                         stagecoachmama@hotmail.com   \n",
       "\n",
       "                                             Message  \\\n",
       "0  Traveling to have a business meeting takes the...   \n",
       "1  Randy,\\nCan you send me a schedule of the sala...   \n",
       "2  1. login: pallen pw: ke9davis\\nI don't think t...   \n",
       "3  Mr. Buckner,\\nFor delivered gas behind San Die...   \n",
       "4  Lucy,\\nHere are the rentrolls:\\nOpen them and ...   \n",
       "\n",
       "                                      Entire-Message DISC_rule DISC_manual  \\\n",
       "0  Re: Traveling to have a business meeting takes...      <NA>        <NA>   \n",
       "1  No Subject Randy,\\nCan you send me a schedule ...      <NA>        <NA>   \n",
       "2  Re: High Speed Internet Access 1. login: palle...      <NA>        <NA>   \n",
       "3  Re: FW: fixed forward or other Collar floor ga...      <NA>        <NA>   \n",
       "4  No Subject Lucy,\\nHere are the rentrolls:\\nOpe...      <NA>        <NA>   \n",
       "\n",
       "  DISC_final  \n",
       "0       <NA>  \n",
       "1       <NA>  \n",
       "2       <NA>  \n",
       "3       <NA>  \n",
       "4       <NA>  "
      ]
     },
     "execution_count": 37,
     "metadata": {},
     "output_type": "execute_result"
    }
   ],
   "source": [
    "emails_df.head(5)"
   ]
  },
  {
   "cell_type": "code",
   "execution_count": null,
   "metadata": {},
   "outputs": [],
   "source": [
    "# email_100 = emails_df['Message'].sample(100)\n",
    "# print(email_100)\n"
   ]
  },
  {
   "cell_type": "code",
   "execution_count": null,
   "metadata": {},
   "outputs": [],
   "source": [
    "# email_100.to_csv('../data/sample_100.csv', index=False)"
   ]
  }
 ],
 "metadata": {
  "kernelspec": {
   "display_name": "Python 3",
   "language": "python",
   "name": "python3"
  },
  "language_info": {
   "codemirror_mode": {
    "name": "ipython",
    "version": 3
   },
   "file_extension": ".py",
   "mimetype": "text/x-python",
   "name": "python",
   "nbconvert_exporter": "python",
   "pygments_lexer": "ipython3",
   "version": "3.12.1"
  }
 },
 "nbformat": 4,
 "nbformat_minor": 2
}
